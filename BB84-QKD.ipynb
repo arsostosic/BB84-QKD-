{
 "cells": [
  {
   "cell_type": "code",
   "execution_count": 20,
   "id": "2bb26417",
   "metadata": {},
   "outputs": [
    {
     "name": "stdout",
     "output_type": "stream",
     "text": [
      "Requirement already satisfied: qiskit in c:\\python312\\lib\\site-packages (2.0.0)\n",
      "Requirement already satisfied: rustworkx>=0.15.0 in c:\\python312\\lib\\site-packages (from qiskit) (0.16.0)\n",
      "Requirement already satisfied: numpy<3,>=1.17 in c:\\python312\\lib\\site-packages (from qiskit) (2.0.1)\n",
      "Requirement already satisfied: scipy>=1.5 in c:\\python312\\lib\\site-packages (from qiskit) (1.15.2)\n",
      "Requirement already satisfied: sympy>=1.3 in c:\\python312\\lib\\site-packages (from qiskit) (1.14.0)\n",
      "Requirement already satisfied: dill>=0.3 in c:\\python312\\lib\\site-packages (from qiskit) (0.4.0)\n",
      "Requirement already satisfied: python-dateutil>=2.8.0 in c:\\users\\arsos\\appdata\\roaming\\python\\python312\\site-packages (from qiskit) (2.9.0.post0)\n",
      "Requirement already satisfied: stevedore>=3.0.0 in c:\\python312\\lib\\site-packages (from qiskit) (5.4.1)\n",
      "Requirement already satisfied: typing-extensions in c:\\users\\arsos\\appdata\\roaming\\python\\python312\\site-packages (from qiskit) (4.13.2)\n",
      "Requirement already satisfied: symengine<0.14,>=0.11 in c:\\python312\\lib\\site-packages (from qiskit) (0.13.0)\n",
      "Requirement already satisfied: six>=1.5 in c:\\users\\arsos\\appdata\\roaming\\python\\python312\\site-packages (from python-dateutil>=2.8.0->qiskit) (1.17.0)\n",
      "Requirement already satisfied: pbr>=2.0.0 in c:\\python312\\lib\\site-packages (from stevedore>=3.0.0->qiskit) (6.1.1)\n",
      "Requirement already satisfied: setuptools in c:\\users\\arsos\\appdata\\roaming\\python\\python312\\site-packages (from pbr>=2.0.0->stevedore>=3.0.0->qiskit) (80.3.1)\n",
      "Requirement already satisfied: mpmath<1.4,>=1.1.0 in c:\\python312\\lib\\site-packages (from sympy>=1.3->qiskit) (1.3.0)\n"
     ]
    },
    {
     "name": "stderr",
     "output_type": "stream",
     "text": [
      "WARNING: Ignoring invalid distribution ~ (C:\\Python312\\Lib\\site-packages)\n",
      "WARNING: Ignoring invalid distribution ~-p (C:\\Python312\\Lib\\site-packages)\n",
      "WARNING: Ignoring invalid distribution ~ip (C:\\Python312\\Lib\\site-packages)\n",
      "WARNING: Ignoring invalid distribution ~~p (C:\\Python312\\Lib\\site-packages)\n",
      "WARNING: Ignoring invalid distribution ~ (C:\\Python312\\Lib\\site-packages)\n",
      "WARNING: Ignoring invalid distribution ~-p (C:\\Python312\\Lib\\site-packages)\n",
      "WARNING: Ignoring invalid distribution ~ip (C:\\Python312\\Lib\\site-packages)\n",
      "WARNING: Ignoring invalid distribution ~~p (C:\\Python312\\Lib\\site-packages)\n",
      "WARNING: Ignoring invalid distribution ~ (C:\\Python312\\Lib\\site-packages)\n",
      "WARNING: Ignoring invalid distribution ~-p (C:\\Python312\\Lib\\site-packages)\n",
      "WARNING: Ignoring invalid distribution ~ip (C:\\Python312\\Lib\\site-packages)\n",
      "WARNING: Ignoring invalid distribution ~~p (C:\\Python312\\Lib\\site-packages)\n"
     ]
    },
    {
     "name": "stdout",
     "output_type": "stream",
     "text": [
      "Requirement already satisfied: qiskit-aer in c:\\python312\\lib\\site-packages (0.17.0)\n",
      "Requirement already satisfied: qiskit>=1.1.0 in c:\\python312\\lib\\site-packages (from qiskit-aer) (2.0.0)\n",
      "Requirement already satisfied: numpy>=1.16.3 in c:\\python312\\lib\\site-packages (from qiskit-aer) (2.0.1)\n",
      "Requirement already satisfied: scipy>=1.0 in c:\\python312\\lib\\site-packages (from qiskit-aer) (1.15.2)\n",
      "Requirement already satisfied: psutil>=5 in c:\\users\\arsos\\appdata\\roaming\\python\\python312\\site-packages (from qiskit-aer) (7.0.0)\n",
      "Requirement already satisfied: rustworkx>=0.15.0 in c:\\python312\\lib\\site-packages (from qiskit>=1.1.0->qiskit-aer) (0.16.0)\n",
      "Requirement already satisfied: sympy>=1.3 in c:\\python312\\lib\\site-packages (from qiskit>=1.1.0->qiskit-aer) (1.14.0)\n",
      "Requirement already satisfied: dill>=0.3 in c:\\python312\\lib\\site-packages (from qiskit>=1.1.0->qiskit-aer) (0.4.0)\n",
      "Requirement already satisfied: python-dateutil>=2.8.0 in c:\\users\\arsos\\appdata\\roaming\\python\\python312\\site-packages (from qiskit>=1.1.0->qiskit-aer) (2.9.0.post0)\n",
      "Requirement already satisfied: stevedore>=3.0.0 in c:\\python312\\lib\\site-packages (from qiskit>=1.1.0->qiskit-aer) (5.4.1)\n",
      "Requirement already satisfied: typing-extensions in c:\\users\\arsos\\appdata\\roaming\\python\\python312\\site-packages (from qiskit>=1.1.0->qiskit-aer) (4.13.2)\n",
      "Requirement already satisfied: symengine<0.14,>=0.11 in c:\\python312\\lib\\site-packages (from qiskit>=1.1.0->qiskit-aer) (0.13.0)\n",
      "Requirement already satisfied: six>=1.5 in c:\\users\\arsos\\appdata\\roaming\\python\\python312\\site-packages (from python-dateutil>=2.8.0->qiskit>=1.1.0->qiskit-aer) (1.17.0)\n",
      "Requirement already satisfied: pbr>=2.0.0 in c:\\python312\\lib\\site-packages (from stevedore>=3.0.0->qiskit>=1.1.0->qiskit-aer) (6.1.1)\n",
      "Requirement already satisfied: setuptools in c:\\users\\arsos\\appdata\\roaming\\python\\python312\\site-packages (from pbr>=2.0.0->stevedore>=3.0.0->qiskit>=1.1.0->qiskit-aer) (80.3.1)\n",
      "Requirement already satisfied: mpmath<1.4,>=1.1.0 in c:\\python312\\lib\\site-packages (from sympy>=1.3->qiskit>=1.1.0->qiskit-aer) (1.3.0)\n"
     ]
    },
    {
     "name": "stderr",
     "output_type": "stream",
     "text": [
      "WARNING: Ignoring invalid distribution ~ (C:\\Python312\\Lib\\site-packages)\n",
      "WARNING: Ignoring invalid distribution ~-p (C:\\Python312\\Lib\\site-packages)\n",
      "WARNING: Ignoring invalid distribution ~ip (C:\\Python312\\Lib\\site-packages)\n",
      "WARNING: Ignoring invalid distribution ~~p (C:\\Python312\\Lib\\site-packages)\n",
      "WARNING: Ignoring invalid distribution ~ (C:\\Python312\\Lib\\site-packages)\n",
      "WARNING: Ignoring invalid distribution ~-p (C:\\Python312\\Lib\\site-packages)\n",
      "WARNING: Ignoring invalid distribution ~ip (C:\\Python312\\Lib\\site-packages)\n",
      "WARNING: Ignoring invalid distribution ~~p (C:\\Python312\\Lib\\site-packages)\n",
      "WARNING: Ignoring invalid distribution ~ (C:\\Python312\\Lib\\site-packages)\n",
      "WARNING: Ignoring invalid distribution ~-p (C:\\Python312\\Lib\\site-packages)\n",
      "WARNING: Ignoring invalid distribution ~ip (C:\\Python312\\Lib\\site-packages)\n",
      "WARNING: Ignoring invalid distribution ~~p (C:\\Python312\\Lib\\site-packages)\n"
     ]
    }
   ],
   "source": [
    "!pip install qiskit\n",
    "!pip install qiskit-aer"
   ]
  },
  {
   "cell_type": "code",
   "execution_count": 21,
   "id": "b99807ca",
   "metadata": {},
   "outputs": [],
   "source": [
    "from qiskit import QuantumCircuit, transpile #Importujemo iz Qiskit biblioteke-Textbooka koji koristi Qiskit SDK\n",
    "from qiskit_aer import Aer\n",
    "from qiskit.visualization import plot_histogram, plot_bloch_multivector\n",
    "from numpy.random import randint\n",
    "import numpy as np #za rad sa matricama"
   ]
  },
  {
   "cell_type": "code",
   "execution_count": 22,
   "id": "9095d9b0",
   "metadata": {},
   "outputs": [],
   "source": [
    "np.random.seed(seed=0) #Da bismo generisali pseudo-slučajne ključeve, koristićemo funkciju randint iz numpy."
   ]
  },
  {
   "cell_type": "code",
   "execution_count": 23,
   "id": "36066d36",
   "metadata": {},
   "outputs": [],
   "source": [
    "n = 30 #Velicina stringa nasumicnih bitova"
   ]
  },
  {
   "cell_type": "code",
   "execution_count": 24,
   "id": "8bd98bc8",
   "metadata": {},
   "outputs": [
    {
     "name": "stdout",
     "output_type": "stream",
     "text": [
      "[0 1 1 0 1 1 1 1 1 1 1 0 0 1 0 0 0 0 0 1 0 1 1 0 0 1 1 1 1 0]\n"
     ]
    }
   ],
   "source": [
    "## Korak 1\n",
    "# Alice generiše bitove koje zeli da posalje Bobu\n",
    "alice_bits = randint(2, size=n)\n",
    "print(alice_bits)"
   ]
  },
  {
   "cell_type": "code",
   "execution_count": 25,
   "id": "b04cdba5",
   "metadata": {},
   "outputs": [],
   "source": [
    "def encode_message(bits, bases): #Funkcija encode_message u nastavku kreira listu kvantnih kola, od kojih svako predstavlja jedan kubit/jednu enkodiranu vrednost u Alisinoj poruci:\n",
    "    message = []\n",
    "    for i in range(n):\n",
    "        qc = QuantumCircuit(1,1) #Kreiramo kvantno kolo sa jednim klasičnim bitom i jednim kubitom -- kvantni i klasičan registar.\n",
    "        if bases[i] == 0: # Pripremamo kubit u Z-bazi, dakle enkodiramo klasičan bit kroz Z bazu u kubit u toj bazi |0>,|1>/ Ako je baza gore definisana nasumično 0 i bit je 0 pređi dalje.\n",
    "            if bits[i] == 0:\n",
    "                pass \n",
    "            else:\n",
    "                qc.x(0) #U suprotnom primeni NOT odnosno X kolo=invertor na stanje prvog kubita u šemi. Jer za 0 nema potrebe to je generalno/default stanje kubita u šemi. \n",
    "        else: # Prepare qubit in X-basis, ako je bit 0 a baza 1 onda primeni Hadamardovu kapiju na stanje prvog kubita --> |+> ili ako je baza 1 i bit 1 isto primeni Hadamarda na prvi kubit --> |->\n",
    "            if bits[i] == 0: \n",
    "                qc.h(0)\n",
    "            else:\n",
    "                qc.x(0)\n",
    "                qc.h(0)\n",
    "        qc.barrier()\n",
    "        message.append(qc) #Ako bit koji hoćemo da enkodiramo ima vrednost 0 onda i kubit ima stanje |0> a ako je bit 1 onda primenjujemo X na stanje prvog kubita u semi da dobijemo vrednost |1>\n",
    "    return message         # Jer se preslikavanje u Z bazi vrsi 1:1. Dok se za X bazu vrsi transliranje iz Z u X preko Hadamardove logicke kapije."
   ]
  },
  {
   "cell_type": "code",
   "execution_count": 26,
   "id": "237a0a66",
   "metadata": {},
   "outputs": [
    {
     "name": "stdout",
     "output_type": "stream",
     "text": [
      "[1 0 1 0 1 1 0 1 1 0 0 1 0 1 1 1 1 1 0 1 0 1 1 1 1 0 1 0 0 1]\n"
     ]
    }
   ],
   "source": [
    "## Korak 2\n",
    "# Alice kreira niz da bi pokazala koji kubiti\n",
    "# su enkodirani u kojoj bazi: za Z bazu koristimo u ovom slučaju 0-->|0>,|1> computational basis, a za X bazu koristimo 1-->|+-> basis \n",
    "alice_bases = randint(2, size=n)\n",
    "message = encode_message(alice_bits, alice_bases)\n",
    "print(alice_bases)"
   ]
  },
  {
   "cell_type": "code",
   "execution_count": 27,
   "id": "67f31b30",
   "metadata": {},
   "outputs": [
    {
     "name": "stdout",
     "output_type": "stream",
     "text": [
      "bit = 0\n",
      "basis = 1\n"
     ]
    }
   ],
   "source": [
    "print('bit = %i' % alice_bits[0])\n",
    "print('basis = %i' % alice_bases[0])"
   ]
  },
  {
   "cell_type": "code",
   "execution_count": 28,
   "id": "eb08da86",
   "metadata": {},
   "outputs": [
    {
     "data": {
      "text/html": [
       "<pre style=\"word-wrap: normal;white-space: pre;background: #fff0;line-height: 1.1;font-family: &quot;Courier New&quot;,Courier,monospace\">     ┌───┐ ░ \n",
       "  q: ┤ H ├─░─\n",
       "     └───┘ ░ \n",
       "c: 1/════════\n",
       "             </pre>"
      ],
      "text/plain": [
       "     ┌───┐ ░ \n",
       "  q: ┤ H ├─░─\n",
       "     └───┘ ░ \n",
       "c: 1/════════\n",
       "             "
      ]
     },
     "execution_count": 28,
     "metadata": {},
     "output_type": "execute_result"
    }
   ],
   "source": [
    "message[0].draw()"
   ]
  },
  {
   "cell_type": "code",
   "execution_count": 29,
   "id": "272d88b4",
   "metadata": {},
   "outputs": [
    {
     "data": {
      "text/html": [
       "<pre style=\"word-wrap: normal;white-space: pre;background: #fff0;line-height: 1.1;font-family: &quot;Courier New&quot;,Courier,monospace\">     ┌───┐ ░ \n",
       "  q: ┤ X ├─░─\n",
       "     └───┘ ░ \n",
       "c: 1/════════\n",
       "             </pre>"
      ],
      "text/plain": [
       "     ┌───┐ ░ \n",
       "  q: ┤ X ├─░─\n",
       "     └───┘ ░ \n",
       "c: 1/════════\n",
       "             "
      ]
     },
     "execution_count": 29,
     "metadata": {},
     "output_type": "execute_result"
    }
   ],
   "source": [
    "message[1].draw()"
   ]
  },
  {
   "cell_type": "code",
   "execution_count": 30,
   "id": "82deeb51",
   "metadata": {},
   "outputs": [],
   "source": [
    "def measure_message(message, bases):\n",
    "    backend = Aer.get_backend('aer_simulator') #Aer simulator funkcija simulira rad kvantnog računara bez šuma.\n",
    "    measurements = []\n",
    "    for q in range(n):\n",
    "        if bases[q] == 0: # merimo vrednost u Z-bazi\n",
    "            message[q].measure(0,0)\n",
    "        if bases[q] == 1: # merimo vrednost u X-bazi / dupliramo Hadamarda da bi vratili kubit iz superpozicije u prvobitnu vrednost tog kubita--> ako je q=|+> znaci da je na pocetku 0 a ako je q=|-> onda 1\n",
    "            message[q].h(0)\n",
    "            message[q].measure(0,0) #Meri vrednost collapsuje ili prevodi vrednost sa 1 kubita u kvantnom registru u na prvi bit u klasicnom registru.\n",
    "        aer_sim = Aer.get_backend('aer_simulator')\n",
    "        result = aer_sim.run(message[q], shots=1, memory=True).result()\n",
    "        measured_bit = int(result.get_memory()[0]) #Vracamo i belezimo rezultate merenja i stavljamo ih u niz bitova\n",
    "        measurements.append(measured_bit)\n",
    "    return measurements #vracamo merenje za pojedinacne kubite koji pristizu Bobu i pamtimo ih u bob_results"
   ]
  },
  {
   "cell_type": "code",
   "execution_count": 31,
   "id": "95a9a0c9",
   "metadata": {},
   "outputs": [
    {
     "name": "stdout",
     "output_type": "stream",
     "text": [
      "[1 0 1 0 1 0 0 0 0 0 1 1 0 0 0 1 1 0 1 0 0 1 0 1 1 1 1 1 1 0]\n"
     ]
    }
   ],
   "source": [
    "#Korak 3 Bob proizvoljno (kkoristeci neku od X ili Z baza) meri vrednosti pojedinacnih kubita i cuva tu informaciju\n",
    "bob_bases = randint(2, size=n) #Bob kreira svoje baze koje ce koristiti za merenje vrednosti poruke - kubita koji pristize od Alise\n",
    "print(bob_bases)\n",
    "bob_results = measure_message(message, bob_bases)"
   ]
  },
  {
   "cell_type": "code",
   "execution_count": 32,
   "id": "62394346",
   "metadata": {},
   "outputs": [
    {
     "data": {
      "text/html": [
       "<pre style=\"word-wrap: normal;white-space: pre;background: #fff0;line-height: 1.1;font-family: &quot;Courier New&quot;,Courier,monospace\">     ┌───┐ ░ ┌───┐┌─┐\n",
       "  q: ┤ H ├─░─┤ H ├┤M├\n",
       "     └───┘ ░ └───┘└╥┘\n",
       "c: 1/══════════════╩═\n",
       "                   0 </pre>"
      ],
      "text/plain": [
       "     ┌───┐ ░ ┌───┐┌─┐\n",
       "  q: ┤ H ├─░─┤ H ├┤M├\n",
       "     └───┘ ░ └───┘└╥┘\n",
       "c: 1/══════════════╩═\n",
       "                   0 "
      ]
     },
     "execution_count": 32,
     "metadata": {},
     "output_type": "execute_result"
    }
   ],
   "source": [
    "message[0].draw()"
   ]
  },
  {
   "cell_type": "code",
   "execution_count": 33,
   "id": "eb3eabf7",
   "metadata": {},
   "outputs": [
    {
     "name": "stdout",
     "output_type": "stream",
     "text": [
      "[0, 1, 1, 0, 1, 0, 1, 1, 0, 1, 1, 0, 0, 0, 1, 0, 0, 0, 0, 0, 0, 1, 1, 0, 0, 0, 1, 1, 0, 0]\n"
     ]
    }
   ],
   "source": [
    "print(bob_results)"
   ]
  },
  {
   "cell_type": "code",
   "execution_count": 47,
   "id": "b90ba857",
   "metadata": {},
   "outputs": [],
   "source": [
    "def remove_garbage(a_bases, b_bases, bits): #Ovu funkciju koristimo da bi eliminisali nepotrebne baze odnosno one koje se nepoklapaju a iz toga zakljucujemo da su sanse za dobijanje istog bita sa strane primaoca poruke male.\n",
    "    good_bits = []\n",
    "    for q in range(n):\n",
    "        if a_bases[q] == b_bases[q]:\n",
    "            #Ako oboje koriste istu bazu, dodaj ovo listi 'dobrih' bitova\n",
    "            good_bits.append(int((bits[q])))\n",
    "    return good_bits"
   ]
  },
  {
   "cell_type": "code",
   "execution_count": 48,
   "id": "b9ba3e5c",
   "metadata": {},
   "outputs": [
    {
     "name": "stdout",
     "output_type": "stream",
     "text": [
      "[0, 1, 1, 0, 1, 1, 1, 0, 0, 0, 0, 0, 1, 0, 0, 1]\n"
     ]
    }
   ],
   "source": [
    "#Korak 4 uklanjanje pogresnih baza samim tim i bitova\n",
    "alice_key = remove_garbage(alice_bases, bob_bases, alice_bits) #Kreiramo Alisin kljuc\n",
    "print(alice_key)"
   ]
  },
  {
   "cell_type": "code",
   "execution_count": 49,
   "id": "0976bef4",
   "metadata": {},
   "outputs": [
    {
     "name": "stdout",
     "output_type": "stream",
     "text": [
      "[0, 1, 1, 0, 1, 1, 1, 0, 0, 0, 0, 0, 1, 0, 0, 1]\n"
     ]
    }
   ],
   "source": [
    "bob_key = remove_garbage(alice_bases, bob_bases, bob_results) #Kreiramo Bobov kljuc\n",
    "print(bob_key)"
   ]
  },
  {
   "cell_type": "code",
   "execution_count": 50,
   "id": "53823e90",
   "metadata": {},
   "outputs": [],
   "source": [
    "def sample_bits(bits, selection): #Kreiramo funkciju za proveru uspesnosti protokola u komunikaciji, a to radimo proverom delova Shifted Key-a odnosno odredjenih bitova iz liste dobrih bitova.--OneTimePad \n",
    "    sample = [] #ovde dodajmeo uzete elemente iz liste.\n",
    "    for i in selection:\n",
    "        # koristimo np.mod da bi bili sigurni da je bit koji samplujemo uvek u opsegu liste. \n",
    "        i = np.mod(i, len(bits))\n",
    "        # pop(i) uklanja element liste pod indexom 'i'.\n",
    "        sample.append(int(bits.pop(i)))\n",
    "    return sample"
   ]
  },
  {
   "cell_type": "code",
   "execution_count": 51,
   "id": "be6ec396",
   "metadata": {},
   "outputs": [
    {
     "name": "stdout",
     "output_type": "stream",
     "text": [
      "  bob_sample = [0, 0, 0]\n",
      "alice_sample = [0, 0, 0]\n"
     ]
    }
   ],
   "source": [
    "#Korak 5 kreiranje uzorka i finalizacija kljuca\n",
    "if len(alice_key) == 0 or len(bob_key) == 0:\n",
    "    print(\"Greška: Ključevi su prazni. Nema dovoljno podudaranja baza.\")\n",
    "else:\n",
    "    sample_size = 3 #Dajemo velicinu uzorka za proveru\n",
    "    bit_selection = randint(n, size=sample_size)#F-ja uzima parametre n-bitova-odnosno Bobov i Alisin kljuc za duzinu od vrednosti velicine uzorka sto je = 3 u ovom slucaju \n",
    "    \n",
    "    bob_sample = sample_bits(bob_key, bit_selection)\n",
    "    print(\"  bob_sample = \" + str(bob_sample))\n",
    "    alice_sample = sample_bits(alice_key, bit_selection)\n",
    "    print(\"alice_sample = \"+ str(alice_sample)) #Ispisujemo vrednosti uzoraka i poredimo ih, ako nema greske vece od 25% pri koriscenju istih baza za encodiranje i merenje/dekodiranje poruke onda znaci da je protokol uspesan i  da nije bilo prisluskivanja"
   ]
  },
  {
   "cell_type": "code",
   "execution_count": 52,
   "id": "a42f2057",
   "metadata": {},
   "outputs": [
    {
     "data": {
      "text/plain": [
       "True"
      ]
     },
     "execution_count": 52,
     "metadata": {},
     "output_type": "execute_result"
    }
   ],
   "source": [
    "bob_sample == alice_sample #Vidimo da je protokol 100% uspesan"
   ]
  },
  {
   "cell_type": "code",
   "execution_count": 53,
   "id": "913c359b",
   "metadata": {},
   "outputs": [
    {
     "name": "stdout",
     "output_type": "stream",
     "text": [
      "[0, 1, 1, 1, 1, 1, 0, 0, 0, 0, 1, 0, 1]\n",
      "[0, 1, 1, 1, 1, 1, 0, 0, 0, 0, 1, 0, 1]\n",
      "key length = 13\n"
     ]
    }
   ],
   "source": [
    "print(bob_key)\n",
    "print(alice_key)\n",
    "print(\"key length = %i\" % len(alice_key)) #Ispisujemo vrednosti kljuceva i duzinu Alisinog kljuca u decimalnom zapisu %i=%d \n",
    "#Ono sto je ostalo je kljuc koji mogu da koriste za enkripciju poruka. A ove vrednosti iz uzorka izbacuju iz kljuca jer vise nisu tajna, pa je kljuc umesto od 7 sada od 4 bita."
   ]
  },
  {
   "cell_type": "code",
   "execution_count": 54,
   "id": "b51fc45e",
   "metadata": {},
   "outputs": [],
   "source": [
    "#Za simuliranje presretanje poruke moguce je koristi sledeci kod:\n",
    "# Interception!\n",
    "#eve_bases = randint(2, size=n)\n",
    "#intercepted_message = measure_message(message, eve_bases)\n",
    "#print(intercepted_message)\n",
    "#U tom slucaju bi Alisa i Bob dobili drugacije vrednosti bitova uprkos koriscenju istih baza za merenje i enkodiranje, sto bi znacilo da je neko Eva prisluskivala razmenu putem kvantnog kanala\n",
    "#bob_sample == alice_sample --> False, a to znaju nakon sto uporede uzorke kljuca i ako je greska veca od 25% onda se smatra da je komunikacija opstruisana, dok se manja greska moze prepisati smetnjama pri radu samog kv. racunara ili nekim drugim smetnjama u samom kanalu prenosa"
   ]
  },
  {
   "cell_type": "code",
   "execution_count": null,
   "id": "8537a02c-bc09-4d4c-94ed-a47417eff07c",
   "metadata": {},
   "outputs": [],
   "source": []
  }
 ],
 "metadata": {
  "kernelspec": {
   "display_name": "Python 3 (ipykernel)",
   "language": "python",
   "name": "python3"
  },
  "language": "python",
  "language_info": {
   "codemirror_mode": {
    "name": "ipython",
    "version": 3
   },
   "file_extension": ".py",
   "mimetype": "text/x-python",
   "name": "python",
   "nbconvert_exporter": "python",
   "pygments_lexer": "ipython3",
   "version": "3.12.4"
  }
 },
 "nbformat": 4,
 "nbformat_minor": 5
}
